{
  "nbformat": 4,
  "nbformat_minor": 0,
  "metadata": {
    "colab": {
      "name": "Preprocessing",
      "provenance": []
    },
    "kernelspec": {
      "display_name": "Python 3",
      "name": "python3"
    },
    "language_info": {
      "name": "python"
    }
  },
  "cells": [
    {
      "cell_type": "code",
      "metadata": {
        "colab": {
          "base_uri": "https://localhost:8080/"
        },
        "id": "ISpw1O4A_6J9",
        "outputId": "62c17c19-e2d8-4625-c4a6-9bde06eb4486"
      },
      "source": [
        "!pip install pdfminer.six"
      ],
      "execution_count": null,
      "outputs": [
        {
          "output_type": "stream",
          "text": [
            "Collecting pdfminer.six\n",
            "\u001b[?25l  Downloading https://files.pythonhosted.org/packages/93/f3/4fec7dabe8802ebec46141345bf714cd1fc7d93cb74ddde917e4b6d97d88/pdfminer.six-20201018-py3-none-any.whl (5.6MB)\n",
            "\u001b[K     |████████████████████████████████| 5.6MB 3.8MB/s \n",
            "\u001b[?25hRequirement already satisfied: chardet; python_version > \"3.0\" in /usr/local/lib/python3.7/dist-packages (from pdfminer.six) (3.0.4)\n",
            "Requirement already satisfied: sortedcontainers in /usr/local/lib/python3.7/dist-packages (from pdfminer.six) (2.3.0)\n",
            "Collecting cryptography\n",
            "\u001b[?25l  Downloading https://files.pythonhosted.org/packages/b2/26/7af637e6a7e87258b963f1731c5982fb31cd507f0d90d91836e446955d02/cryptography-3.4.7-cp36-abi3-manylinux2014_x86_64.whl (3.2MB)\n",
            "\u001b[K     |████████████████████████████████| 3.2MB 45.3MB/s \n",
            "\u001b[?25hRequirement already satisfied: cffi>=1.12 in /usr/local/lib/python3.7/dist-packages (from cryptography->pdfminer.six) (1.14.5)\n",
            "Requirement already satisfied: pycparser in /usr/local/lib/python3.7/dist-packages (from cffi>=1.12->cryptography->pdfminer.six) (2.20)\n",
            "Installing collected packages: cryptography, pdfminer.six\n",
            "Successfully installed cryptography-3.4.7 pdfminer.six-20201018\n"
          ],
          "name": "stdout"
        }
      ]
    },
    {
      "cell_type": "code",
      "metadata": {
        "id": "n6hoaGgRCfw1"
      },
      "source": [
        "from pdfminer.pdfinterp import PDFResourceManager, PDFPageInterpreter\n",
        "from pdfminer.converter import TextConverter\n",
        "from pdfminer.layout import LAParams\n",
        "from pdfminer.pdfpage import PDFPage\n",
        "from io import StringIO\n",
        "\n",
        "class PdfConverter:\n",
        "\n",
        "   def __init__(self, file_path):\n",
        "       self.file_path = file_path\n",
        "# convert pdf file to a string which has space among words \n",
        "   def convert_pdf_to_txt(self, pagenos):\n",
        "       rsrcmgr = PDFResourceManager()\n",
        "       retstr = StringIO()\n",
        "       codec = 'utf-8'  # 'utf16','utf-8'\n",
        "       laparams = LAParams()\n",
        "       device = TextConverter(rsrcmgr, retstr, codec=codec, laparams=laparams)\n",
        "       fp = open(self.file_path, 'rb')\n",
        "       interpreter = PDFPageInterpreter(rsrcmgr, device)\n",
        "       password = \"\"\n",
        "       maxpages = 1\n",
        "       pagenos = range(pagenos, pagenos+maxpages)\n",
        "       pagenos = set(pagenos)\n",
        "       caching = True\n",
        "       for page in PDFPage.get_pages(fp, pagenos, maxpages=maxpages, password=password, caching=caching, check_extractable=True):\n",
        "           interpreter.process_page(page)\n",
        "       fp.close()\n",
        "       device.close()\n",
        "       str = retstr.getvalue()\n",
        "       retstr.close()\n",
        "       return str"
      ],
      "execution_count": null,
      "outputs": []
    },
    {
      "cell_type": "code",
      "metadata": {
        "id": "BtU2qwfxJjO_"
      },
      "source": [
        "from gensim.summarization import keywords"
      ],
      "execution_count": null,
      "outputs": []
    },
    {
      "cell_type": "code",
      "metadata": {
        "id": "TgZHyrpICwlH"
      },
      "source": [
        "pdfConverter = PdfConverter(file_path='/content/Mastering Cloud Computing - Rajkumar Buyya.pdf')"
      ],
      "execution_count": null,
      "outputs": []
    },
    {
      "cell_type": "code",
      "metadata": {
        "id": "L2yVrs1BL3GJ"
      },
      "source": [
        "data =[]"
      ],
      "execution_count": null,
      "outputs": []
    },
    {
      "cell_type": "code",
      "metadata": {
        "colab": {
          "base_uri": "https://localhost:8080/",
          "height": 191
        },
        "id": "e1cTc3QJc7qB",
        "outputId": "16758699-6060-479d-dc55-67869561b026"
      },
      "source": [
        "pdfConverter.convert_pdf_to_txt(pagenos=21)"
      ],
      "execution_count": null,
      "outputs": [
        {
          "output_type": "execute_result",
          "data": {
            "application/vnd.google.colaboratory.intrinsic+json": {
              "type": "string"
            },
            "text/plain": [
              "'1.1 Cloud computing at a glance\\n\\n5\\n\\nfor cloud computing, which provides an open environment where computing, storage, and other ser-\\nvices are traded as computing utilities.\\n\\n1.1.1 The vision of cloud computing\\nCloud computing allows anyone with a credit card to provision virtual hardware, runtime environ-\\nments, and services. These are used for as long as needed, with no up-front commitments required.\\nThe entire stack of a computing system is transformed into a collection of utilities, which can be\\nprovisioned and composed together to deploy systems in hours rather than days and with virtually\\nno maintenance costs. This opportunity, initially met with skepticism, has now become a practice\\nacross several application domains and business sectors (see Figure 1.1). The demand has fast-\\ntracked technical development and enriched the set of services offered, which have also become\\nmore sophisticated and cheaper.\\n\\nDespite its evolution, the use of cloud computing is often limited to a single service at a time\\nor, more commonly, a set of related services offered by the same vendor. Previously, the lack of\\neffective standardization efforts made it difficult to move hosted services from one vendor to\\nanother. The long-term vision of cloud computing is that IT services are traded as utilities in an\\nopen market, without technological and legal barriers. In this cloud marketplace, cloud service pro-\\nviders and consumers, trading cloud services as utilities, play a central role.\\n\\nMany of the technological elements contributing to this vision already exist. Different stake-\\nholders leverage clouds for a variety of services. The need for ubiquitous storage and compute\\npower on demand is the most common reason to consider cloud computing. A scalable runtime for\\napplications is an attractive option for application and system developers that do not have infra-\\nstructure or cannot afford any further expansion of existing infrastructure. The capability for Web-\\nbased access to documents and their processing using sophisticated applications is one of the\\nappealing factors for end users.\\n\\nIn all these cases, the discovery of such services is mostly done by human intervention: a person\\n(or a team of people) looks over the Internet to identify offerings that meet his or her needs. We\\nimagine that in the near future it will be possible to find the solution that matches our needs by\\nsimply entering our request in a global digital market that trades cloud computing services. The\\nexistence of such a market will enable the automation of the discovery process and its integration\\ninto existing software systems, thus allowing users to transparently leverage cloud resources in their\\napplications and systems. The existence of a global platform for trading cloud services will also\\nhelp service providers become more visible and therefore potentially increase their revenue. A\\nglobal cloud market also reduces the barriers between service consumers and providers: it is no lon-\\nger necessary to belong to only one of these two categories. For example, a cloud provider might\\nbecome a consumer of a competitor service in order to fulfill its own promises to customers.\\n\\nThese are all possibilities that are introduced with the establishment of a global cloud comput-\\ning marketplace and by defining effective standards for the unified representation of cloud services\\nas well as the interaction among different cloud technologies. A considerable shift toward cloud\\ncomputing has already been registered, and its rapid adoption facilitates its consolidation.\\nMoreover, by concentrating the core capabilities of cloud computing into large datacenters, it is\\npossible to reduce or remove the need for any technical infrastructure on the service consumer side.\\nThis approach provides opportunities for optimizing datacenter facilities and fully utilizing their\\n\\n\\x0c'"
            ]
          },
          "metadata": {
            "tags": []
          },
          "execution_count": 7
        }
      ]
    },
    {
      "cell_type": "code",
      "metadata": {
        "colab": {
          "base_uri": "https://localhost:8080/"
        },
        "id": "rJccmm4NDpxx",
        "outputId": "a88c503f-32cf-4afa-ec0f-49c5499e696e"
      },
      "source": [
        "for i in range(21, 444):\n",
        "  page = pdfConverter.convert_pdf_to_txt(pagenos=i)\n",
        "  if (len(page.split(' ')) >50):\n",
        "    data.append(keywords(page, words=10, lemmatize=True).replace('\\n', ' '))\n",
        "  else:\n",
        "      print('hi'+ str(i))"
      ],
      "execution_count": null,
      "outputs": [
        {
          "output_type": "stream",
          "text": [
            "hi44\n",
            "hi118\n",
            "hi121\n",
            "hi126\n",
            "hi157\n",
            "hi158\n",
            "hi179\n",
            "hi185\n",
            "hi186\n",
            "hi261\n",
            "hi274\n",
            "hi328\n",
            "hi329\n",
            "hi330\n",
            "hi368\n",
            "hi388\n",
            "hi396\n",
            "hi402\n",
            "hi420\n",
            "hi437\n",
            "hi440\n",
            "hi442\n"
          ],
          "name": "stdout"
        }
      ]
    },
    {
      "cell_type": "code",
      "metadata": {
        "colab": {
          "base_uri": "https://localhost:8080/"
        },
        "id": "IS2Jbuhdg1XF",
        "outputId": "f2e7107c-316c-4ed1-f42d-cae9bd964ecd"
      },
      "source": [
        "len(data)"
      ],
      "execution_count": null,
      "outputs": [
        {
          "output_type": "execute_result",
          "data": {
            "text/plain": [
              "401"
            ]
          },
          "metadata": {
            "tags": []
          },
          "execution_count": 9
        }
      ]
    },
    {
      "cell_type": "code",
      "metadata": {
        "id": "prCV7O3gf-MS"
      },
      "source": [
        "data = list(set(data))"
      ],
      "execution_count": null,
      "outputs": []
    },
    {
      "cell_type": "code",
      "metadata": {
        "id": "QJQ2GsWxUe43"
      },
      "source": [
        "target=[]"
      ],
      "execution_count": null,
      "outputs": []
    },
    {
      "cell_type": "code",
      "metadata": {
        "id": "_UOdvIkhMZI1"
      },
      "source": [
        "for i in range(len(data)):\n",
        "  #data[i] = data[i].replace(\"\\n\", \" \")\n",
        "  target.append('Cloud Computing')"
      ],
      "execution_count": null,
      "outputs": []
    },
    {
      "cell_type": "code",
      "metadata": {
        "colab": {
          "base_uri": "https://localhost:8080/"
        },
        "id": "j_ih-ZIX3SNs",
        "outputId": "4da61cf7-c9de-4375-8bd2-5c895f711616"
      },
      "source": [
        "len(target)"
      ],
      "execution_count": null,
      "outputs": [
        {
          "output_type": "execute_result",
          "data": {
            "text/plain": [
              "401"
            ]
          },
          "metadata": {
            "tags": []
          },
          "execution_count": 13
        }
      ]
    },
    {
      "cell_type": "code",
      "metadata": {
        "colab": {
          "base_uri": "https://localhost:8080/"
        },
        "id": "G1xmXjTLTvz8",
        "outputId": "590f7a93-0973-4fc1-b454-167adcec99ef"
      },
      "source": [
        "data"
      ],
      "execution_count": null,
      "outputs": [
        {
          "output_type": "execute_result",
          "data": {
            "text/plain": [
              "['clouds computing solutions saas iaas expenses capital options',\n",
              " 'service emails aws applications amazon web message models provide queues',\n",
              " 'cid service sla cloud levels networks provider process performance parties',\n",
              " 'application java environ appengine support python executed specific developing runtimes',\n",
              " 'clouds services model computing market management mocc federated virtual arrange',\n",
              " 'games cloud application logs computing pro users capacity prototype process',\n",
              " 'compute azure applications cloud data windows fee databases services editions',\n",
              " 'summary public class math value computes listing continued needed anymore',\n",
              " 'service application software computing qos attributes costs coupling transparent building',\n",
              " 'paas application cloud cid provide runtimes service solutions virtual',\n",
              " 'virtualizing providing vmware applications service computing paravirtualization operating scalable web',\n",
              " 'manage services aneka feature clouds application configuration hardware provide virtual',\n",
              " 'service cloud compute application development azure data solution windows scalability',\n",
              " 'cid level provide federation cloud require agreements services qos geo',\n",
              " 'workflows computations image dependency montage data application management natural node',\n",
              " 'service metacdn storage deployment provider cid content clouds qos optimized',\n",
              " 'computing era models parallel service technological element better process',\n",
              " 'mapreduce storage data program supporting models nosql files simple examples',\n",
              " 'summary matrixproduct matrix threads static arrays concurrent scalarproduct main',\n",
              " 'compute mtc including job schedulers globus resource large task generally',\n",
              " 'mapreduce values sequential file thread key service byte classes command',\n",
              " 'aneka models applications resources services clouds cid hardware deployment different',\n",
              " 'data cassandra systems files distributed storage manage huge large providing',\n",
              " 'tasks cid service application jobs web files aneka software design',\n",
              " 'service provision resources manager aneka container indexing nodes cloud dynamically',\n",
              " 'service azure amazon technologies currently supported provided appliance address platform',\n",
              " 'amazon network connections priced providers services aws resources access requests',\n",
              " 'protocol networked ipc hardware layers devices communication programming middleware distributed',\n",
              " 'speed figure cid multiple processors cost important guidelines linearly increases',\n",
              " 'value logging aneka data usercredentials group property information parsing',\n",
              " 'operation virtual partial systems hardware space appli isolate tions devices',\n",
              " 'communication models systems messages technology rpc cid different component events',\n",
              " 'summary program app static anekathread synchronization keeping ttangent',\n",
              " 'files storage multiple protocol data nodes clients servers systems available',\n",
              " 'aneka file errors logging mapreduce output properties configuration utilizes cid',\n",
              " 'tasks app conf summary event new exception error anekatask configuration',\n",
              " 'data acting informing protecting organization accessed financial directive approaches business',\n",
              " 'tasks model computing application program parameter base dependent reviewed workflow',\n",
              " 'summary scalar matrixproduct double matrix thread columns result scalarproduct',\n",
              " 'cid matrix product equation pro input cij following matrices elements',\n",
              " 'providing services qos cloud federation iaas performance user benefit company',\n",
              " 'message distributed models remotely method objects process cid communicate paradigm',\n",
              " 'application task aneka models developers service taskscheduler node execute figure',\n",
              " 'data cid store databases key nosql apache supports available models',\n",
              " 'computing cid market distributed resource users model different offers according',\n",
              " 'compute provides azure cid storage blob large different storing access',\n",
              " 'computation cid federated capacity services provides datacenter cloud disaster different',\n",
              " 'machine data multiple memory mimd systems instruction unlike com misd',\n",
              " 'virtualized environments software allows physical common overhead machine performed resources',\n",
              " 'scenario objects method manage different component remote instances base class',\n",
              " 'tasks threads strategies manages programs define workflow completely file figure',\n",
              " 'workflows data base supporting jobs specific distribution dagman service condor',\n",
              " 'virtual sandbox sharing environment executed feature power security provide desktop',\n",
              " 'mpi command parameters tasks file remotely messages executing user applica',\n",
              " 'service storage node different cid aneka virtual resource specific machine',\n",
              " 'cloud computing software new technologies development market challenges models orga',\n",
              " 'summary scalarproduct double public row resulting column programming applications',\n",
              " 'implementing mapreduce queue aneka file providing tasks cid thread storage',\n",
              " 'resource cloud federated services coordinator provides offers similarly developing new',\n",
              " 'computing information infrastructure private clouds idea resource core specifically provides',\n",
              " 'mapreduce programming aneka files servic mapper application client data reducer',\n",
              " 'applications allowing virtual binary instructions hardware environment oper windows functions',\n",
              " 'managing secure provide application users cloud service access vulnerabilities starting',\n",
              " 'vmware virtual application operations cid creates hosted machines environment memory',\n",
              " 'values mapreduce data function file computations provided eventually programming large',\n",
              " 'cloud new technology services secure application compute organizational data questions',\n",
              " 'service mandatory cid execution nodes index infrastructure master programming configured',\n",
              " 'reserve aneka resource service provides execute different cid view application',\n",
              " 'task classes applications file execution summary anekatask itask submission',\n",
              " 'virtual hardware host machines type envi execution vmm runs interface',\n",
              " 'summary function public keeping line double program listing product object',\n",
              " 'byte method output files class values log applications useful',\n",
              " 'cid parallelized computations thread decompositions problems logic structure repetitive common',\n",
              " 'volume files storage allowing instance amazon bucket applications feature caching',\n",
              " 'summary console node information logs exception usage aggregate case',\n",
              " 'cid service resources energy dynamic consumer physical allocation vms compute',\n",
              " 'workflows language computing manager data resource service distributed document supporting',\n",
              " 'input engine systems data programs computers languages style pro interaction',\n",
              " 'objects models message communication request remoting distributed specific protocol components',\n",
              " 'service clouds model cid working cost computing users organizational political',\n",
              " 'threads processes multithreaded different considered lifetime minimizes concurrent control programming',\n",
              " 'cid parameter values tasks file model exposes bound application define',\n",
              " 'compute task step execute high program specific hpc applications settings',\n",
              " 'services cid messages aneka iservice implement control properties type defining',\n",
              " 'threads state starts reservation files execute cycle fails node aborted',\n",
              " 'summary character value log mapper start key string _aneka mapreduce',\n",
              " 'applications visualizing model designed tasks parameters sweep psm aneka simplified',\n",
              " 'cloud computing provide application services scalability issues vision figure logic',\n",
              " 'services soa components standardized cid systems interaction business computing designed',\n",
              " 'computing service pricing users cloud approach cid development storage',\n",
              " 'provided manage service feature iaas paas infrastructure reference api infrastruc',\n",
              " 'thread distributed throughput application values different computing generated process executing',\n",
              " 'virtualized operations hardware calls machine ring systems xen runs instructions',\n",
              " 'service different computing application models clouds distributed runtime platforms dynamic',\n",
              " 'servers virtual hardware power cid administration cost resource data called',\n",
              " 'data computing storage new cid accessed supercomputer software systems information',\n",
              " 'reduce provide type listing tion generates counter words operation key',\n",
              " 'cloud virtualization provider solution private infrastructures services specific architecture vmware',\n",
              " 'azure services windows network allowing cache databases sql provides protocol',\n",
              " 'virtual computation environments service resources isolated trans techniques particularly',\n",
              " 'services users application managed aneka cid environ layers executed provide',\n",
              " 'application clouds computers provides services solutions ing public network',\n",
              " 'providing classes aneka instance types executed state normal synchronization',\n",
              " 'virtualized partition driver operating accessible management hardware executed vmbus clients',\n",
              " 'services virtual application general program providers level cloud solutions web',\n",
              " 'infrastructure clouds cid communication data industries compute providing include',\n",
              " 'secure cloud object standardizing providing cdmi cid technology control supported',\n",
              " 'developing paas applications providers environments based programming middleware users model',\n",
              " 'summary file values seqreader public valuetype classes mapreduce metadata instance',\n",
              " 'file aneka tasks instances event workunit specifying args data summary',\n",
              " 'virtual cid specific environment performed managed machines inefficiency operating instructions',\n",
              " 'tasks input shared files app configuration new filedata property conf',\n",
              " 'cid request failure serving resources different bucket content form',\n",
              " 'remote component differences distributed technology interaction development applications java systems',\n",
              " 'mapreduce group summary configuration return input text conf val output',\n",
              " 'param threads partial program summary static args ttangent updater',\n",
              " 'mapreduce data hadoop pig framework reduce computing merging relational',\n",
              " 'summary info scalarproduct double serialized row resulting column public class',\n",
              " 'level instructions parallelizing fine processes grain functions large processor general',\n",
              " 'service payments amazon aws applications cloud infrastructure users completed connect',\n",
              " 'architectures software class style logical patterns organize distributed nents vocabu',\n",
              " 'service soap web level figure distributed computing xml remote object',\n",
              " 'file reduce method summary long input mapreduce cid sum aneka',\n",
              " 'clouds difference services intercloud levels federated tions workloads computing',\n",
              " 'computing application clouds data satellites infrastructures images process aneka technologies',\n",
              " 'cost cloud capital comput expensive software manage disappear additional needs',\n",
              " 'mapreduce data file tasks output input key distributed intermediate functions',\n",
              " 'clouds aneka applications computers model virtual managed platforms deployment provides',\n",
              " 'summary program configure mapreduce application logger read classes aneka data',\n",
              " 'applications quota appengine developers service resources google default microsoft operating',\n",
              " 'data approach intensive phase provided high processing social based application',\n",
              " 'data com compute manager oscon efficient processing requirements facebook',\n",
              " 'virtualize hardware introduced performance architectures guests implementing operations solution instructions',\n",
              " 'tasks files filedata output trace cid executable fileattributes aneka app',\n",
              " 'virtual vmware user cid operating computers usb application mouse unmodified',\n",
              " 'service web application wsdl environment description stan directly protocol registry',\n",
              " 'cid file summary mapreduce value map return runtime contains task',\n",
              " 'applications threads parallelizing programming model aneka implement logical function',\n",
              " 'application appengine request developing google infrastructure environment users web sta',\n",
              " 'cid xen virtualization privileged managed solutions initially hardware platform cloud',\n",
              " 'genes datasets data cloud coxcs expression process tasks cells classifying',\n",
              " 'clients styles server model designed components requests tributed given physical',\n",
              " 'conf local thread technological sine anekathread configure aneka method example',\n",
              " 'data high computational large distributed users project resources grid',\n",
              " 'virtualizing levels model tions managed registers hardware abi computing interface',\n",
              " 'tasks applications parameters computational algorithm domain general tion models',\n",
              " 'application cid saas featuring com services integrates software business differently',\n",
              " 'threading operation execution synchronization cid different implementing stop programs',\n",
              " 'videos cloud service game log encoding required user software server',\n",
              " 'data distribution sphere compute model mapreduce combination processes provide condition',\n",
              " 'data files differ datastore appengine static stores developers keys web',\n",
              " 'virtualized machines cid host module resource hardware dispatcher interpreter instruc',\n",
              " 'rpc parameter procedures cid server clients unmarshaling processes marshaling programming',\n",
              " 'summary wordcounter configure application logger program read ioutil aneka new',\n",
              " 'access user allows permissions cid acp full_control policy requests resources',\n",
              " 'table allows message processing application result drive infrastructure datacenter storage',\n",
              " 'objects level dcom corba different languages component com interoperation method',\n",
              " 'matrixproduct stopping double row scalarproduct scalar summary column listing',\n",
              " 'pair components mapper text data key different reduce program simply',\n",
              " 'tasks computers distribution programs application output model data ing reference',\n",
              " 'files channel based storage infrastructure model provides application cid distributed',\n",
              " 'files cid configuration property remote group listing set filedata input',\n",
              " 'applications task model workflows provide computation aneka discuss',\n",
              " 'ipc distributed processes communication architectures reference models fundamental scale different',\n",
              " 'virtual servers programs languages compiled operate applications differ executing pascal',\n",
              " 'thread operation program standard logical butes proper portable application',\n",
              " 'data compute distributed large database processing management natural application mapreduce',\n",
              " 'summary public function value sine updateresult param result void updater',\n",
              " 'service reservoir virtualization manifests vees popular environments applications stack',\n",
              " 'services market cloud computing brokers dynamically capacity vendors orientation',\n",
              " 'web applications different entities time remote resource appengine indexes multiple',\n",
              " 'infrastructure application virtualized web machine management services iaas cloud costs',\n",
              " 'appfabric azure service windows microsoft scalable development figure platform compute',\n",
              " 'multicore perform cores frequency processors tech single multiple scaling processing',\n",
              " 'clouds service compute model introduction large tion users private applications',\n",
              " 'threading class summary application methods serialization worker anekathread app exceptions',\n",
              " 'systems blackboard data architectures repository cid processing main components computing',\n",
              " 'cloud applications crm erp resources management data enterprises specific preferred',\n",
              " 'summary values reduces param public reduceemitdelegate mapreduce applications type',\n",
              " 'levels instruction security application operate isa api sensitive computing fixed',\n",
              " 'application services saas software provided models users fee asps computing',\n",
              " 'clouds cost computing services different software subscription cid makes providers',\n",
              " 'cloud computing applications provided market users implementations engine datacenters components',\n",
              " 'task events summary args exception error anekatask workunit gausstask param',\n",
              " 'cloud jurisdictions different provide data issues aspects customers specific law',\n",
              " 'applications performed stack virtual architectures security machine program languages platforms',\n",
              " 'cloud storage provides data occi model interfaces offering initially',\n",
              " 'services orientation environment messages trust generally systems based abstract minimal',\n",
              " 'desktops application documents cloud scale users google office automation',\n",
              " 'web applications developing sdk java appengine provides tool eclipse environments',\n",
              " 'applications threading aneka class multithreaded models exposed porting execution machines',\n",
              " 'layered event languages level styles communicate systems processes model operating',\n",
              " 'cid platforms additional services providing infrastructure monitoring interfaces pal hosting',\n",
              " 'appengine account google accessed web user messages mails email chat',\n",
              " 'azure servers sql layer service database datacenters data managed rest',\n",
              " 'services provider arrangements models sensitive computing new makes different',\n",
              " 'computational processed multiple processors parallelism cpus cid systems sequential growth',\n",
              " 'comput distributed general designer systems models different parallelism networked conceptual',\n",
              " 'datacenter energy clouds high tion carbon computing resources applications service',\n",
              " 'summary public memory math value updater cosine serializable needed anymore',\n",
              " 'infrastructure cloud public service provides datacenters complete peak distributed software',\n",
              " 'compute web cloud application services systems developing completely technologies considerable',\n",
              " 'data style processes generation filters differences program applications shell comput',\n",
              " 'servers client peers architectures model computation performance examples systems',\n",
              " 'computational data applications requires new ecg dynamic biology consequently extensive',\n",
              " 'provided cloud open platform cid technologies vendor computing standards stan',\n",
              " 'clouds service comput datacenter provider technical runtime based ger adoption',\n",
              " 'xml soap alternative state reply web invocation given computing services',\n",
              " 'application develop hadoop data provide currently cloud computing operations caching',\n",
              " 'virtual networks desktop accessing different infrastructures remote internal computing environments',\n",
              " 'videos users cloud service developers com effects specific feeds data',\n",
              " 'mapreduce reduce summary files int methods sum counter listing jobs',\n",
              " 'files model figure application job component sweep aneka high',\n",
              " 'standardized cloud computing vendor systems providers technology initially interoperable technical',\n",
              " 'mpi communicator reference structure groups cid provide identified section called',\n",
              " 'virtual compute environ fundamental application cid end capacity additional',\n",
              " 'vmware servers user cid managed hypervisor operating serverd provides called',\n",
              " 'virtual machine instruction sensitive hybrid nesting ing hvm virtualizable supervisor',\n",
              " 'cid cost community clouds resource infrastructure enterprise software generate vious',\n",
              " 'new application tasks app conf methods summary gauss configuration termination',\n",
              " 'server client tiers presentation users data architecture components light implementation',\n",
              " 'cloud differ private figure community generally systems architectural users administrative',\n",
              " 'mapreduce worker distributed problems map files processing providing considerable outputs',\n",
              " 'service aneka application developing infrastructure clouds model new execution management',\n",
              " 'contractual services providers users agreements cloud specification measures data policies',\n",
              " 'mapreduce programming class models listing provides limited set logic applications',\n",
              " 'summary conffile gaussapp application configuration string main conf args private',\n",
              " 'data grid computational accessibility huge researchers cid dataset lhc national',\n",
              " 'web role azure computing applications server provides developing service technologies',\n",
              " 'web services based computing restful method ajax applications xml',\n",
              " 'dropbox application cloud online folder environments provides storage appli',\n",
              " 'cid summary mar messages logs reduce line task file value',\n",
              " 'clouds scheduler computing virtual budget infrastructure providers dynamic provisioning applications',\n",
              " 'new web applications provide users interaction phone dynamic services websites',\n",
              " 'clouds computers model application cloudbus engine workflow basis tional advanced',\n",
              " 'cloud reservoir different services busi providing federations interoperation issues data',\n",
              " 'resource computational grid job management scheduling support paramet node rang',\n",
              " 'computing market service model cid cloud provide financial security architectures',\n",
              " 'functionally threads computations results matrix programming data keeping decomposition cid',\n",
              " 'application tables cloud crm scalable erp engine salesforce development',\n",
              " 'eyeos application users files desktop new cloud appname provides',\n",
              " 'aneka files parameters applications tasks psm service components sup',\n",
              " 'summary matrixproduct matrix aneka threads static class anekathread concurrent',\n",
              " 'objects remote methods instances value distributed refer marshaling evolves cipal',\n",
              " 'mpi applications distributed message file infrastructures provides developers computing',\n",
              " 'cloud computational portal machines structure prediction task ques cuted recognition',\n",
              " 'data computations application mapreduce information efficient storage large ing infrastructures',\n",
              " 'computing discuss architectural distributed communication review major avail model',\n",
              " 'instance address service allowing security aws computing elastic cloudformation accessibility',\n",
              " 'virtualization technologies environment applications manager java software developed networking guest',\n",
              " 'applications cloud platform services runtime middleware provider programming developers products',\n",
              " 'data cid computations software problems support generation',\n",
              " 'energy performance datacenters cloud providers resources costs environments',\n",
              " 'new line null string workspace componentstats sources filestream reader',\n",
              " 'instance amazon prices storage caching high solution database data memory',\n",
              " 'application cloud new technologies encoding benefit maintenance adding tics resource',\n",
              " 'value aneka propertyname file cid usercredentials property replacements group',\n",
              " 'servicing new comput cloud cost needed software technical challenges provides',\n",
              " 'infrastructures private clouds software virtualization vmware datasynapse pools tive start',\n",
              " 'simpledb model data values different eventually operation storage charge select',\n",
              " 'virtual vir allows managers computing portability techniques popularity opportunity',\n",
              " 'client data storage contains cloud interfaces services objects management advanced',\n",
              " 'computational web services utility mainframe technological protocol access power',\n",
              " 'threading parallel supporting multiple processes opers tions program single time',\n",
              " 'compute application execute programming specifically requiring hpc flops large tasks',\n",
              " 'clouds cid standards forum security computing technology interoperation understanding organization',\n",
              " 'memory mimd data mesh processor communication network connecting figure',\n",
              " 'compute service applications online scale infrastructures important cloud grid',\n",
              " 'comput parallel processor network eras address specific memory applications term',\n",
              " 'application threading aneka provides instance types class local additional programming',\n",
              " 'summary configure program wordcounter application logger read aneka mapreduce string',\n",
              " 'securely manage cloud itil computing cid iso infrastructure processes vendors',\n",
              " 'model class different application category work programming types files developers',\n",
              " 'info summary serialized row column double param implementing scalar',\n",
              " 'summary mapreduce listing type application property public const bool',\n",
              " 'cloud federation computing administrative providers intercloud manages middleware broker cohen',\n",
              " 'cid request modules user services provider computing vms infrastructure resource',\n",
              " 'computers cloud mainframes amazon ethernet independent puting provided single introduction',\n",
              " 'tasks event listing anekatask app new conf gauss anekaapplication bag',\n",
              " 'seqreader sources object new summary resultfile result outputdir',\n",
              " 'distributes large files high comput operations data cid servers master',\n",
              " 'provides clouds cid component resources level federated usage power advanced',\n",
              " 'cid computers data processed sisd systems instructions sequential single machine',\n",
              " 'summary aneka function param updateresult threads public value result',\n",
              " 'computed service cloud amazon web elastic data storage provide applications',\n",
              " 'systems layers objects main program style abstraction methods specific environment',\n",
              " 'tasks event anekatask dynamic submission additional gausstask submits summary executeworkunit',\n",
              " 'computers architectural parallelism software systems cloud services processes multiple hardware',\n",
              " 'summary public cosine computed value class param function tangent',\n",
              " 'words summary mapreduce string value mapper map properties stringsplitoptions',\n",
              " 'management web provides infrastructure server sla apache interface reference',\n",
              " 'application netsuite engine busi user customized dynamics completely crm allow',\n",
              " 'markets computing price service oed generally cloud vendor provided conversion',\n",
              " 'cid spotcloud market cloud application buyers www building portal',\n",
              " 'aneka application model managers specific program features services develop execution',\n",
              " 'tasks applications executable logic synchronization providing method files completes',\n",
              " 'summary public uniqueness application instance settings value intelligible aneka class',\n",
              " 'different data machines simd computing single multiple instance state instructions',\n",
              " 'partitioned hardware operations virtual cid memory manage hypervisor controllers child',\n",
              " 'manage virtualized solution cim applications cloud users vmware examples interface',\n",
              " 'stopping tsine partial value summary result target catch error param',\n",
              " 'cid costs scalability cloud users services comput software solution development',\n",
              " 'mapreduce summary executed task scheduling messages service file aneka',\n",
              " 'cid parallelism distribution models processors programming pes levels operation mimd',\n",
              " 'specific images processed workflows transfer figure plane need mosaic locality',\n",
              " 'object cid specific stored physical users resource logging',\n",
              " 'cloud computing virtualize applications management services hardware resources platforms programming',\n",
              " 'image operates applicable appengine services time web request computations allow',\n",
              " 'energy cloud power comput reduce costs datacenter revenue period consortium',\n",
              " 'service virtualization reservoir provider workload resources computational geographic advanced',\n",
              " 'service amazon application clouds paas compute solutions scalable com images',\n",
              " 'rpc objects processes remotely type programming frameworks distributed interface defining',\n",
              " 'computers clouds secure challenge different historical confidential virtualization data infrastructure',\n",
              " 'computation figure matrix decomposition process nal parallel previously described units',\n",
              " 'service virtualization allocator managed cid customers user cloud machine control',\n",
              " 'workflows aneka engine offspring autoplugin task plug computing client strategies',\n",
              " 'clouds engineers computing designing render high trains southern maya time',\n",
              " 'deployments resources cid computing aneka provisioning scenario nodes accounting cally',\n",
              " 'summary file public instance value long seqwriter mapreduce current buffer',\n",
              " 'computers processing multiprocessing program throughput parallel memory multiple multithreaded multipro',\n",
              " 'application services resources models aneka job reservation infrastructure specific availability',\n",
              " 'cloud provisioned provide applications services dynamic resource aneka deployment figure',\n",
              " 'mpi code applications parallel environments distributed file tools installed national',\n",
              " 'application software resources paas solutions manage different customization concerns erp',\n",
              " 'tasks applications class itask service programming cid provides instance listing',\n",
              " 'service infrastructure manage applications resources runtime cid aneka dynamically cloud',\n",
              " 'service monitors information nodes aneka provide infrastructure times cid data',\n",
              " 'summary application instance string void param public implementation listing data',\n",
              " 'virtual application networks services platforms model examples compute provider stack',\n",
              " 'instance amazon service provides avail data large solution managing database',\n",
              " 'application web interface distributed computing virtualization infrastructure provides runtime',\n",
              " 'amazon web service amis elastic image virtual aws computing simple',\n",
              " 'applications boinc computing model supporting job embarrassingly optimization render specific',\n",
              " 'cloud services computing provides solutions user market spotcloud efficient use',\n",
              " 'occi cloud managed specific model types iaas resource document extensibility',\n",
              " 'computers user services systems enterprises processed resources cloud cid web',\n",
              " 'applications azure access communications managed allow data cloud service storage',\n",
              " 'conf aneka configure application namespace serialize return common matrix',\n",
              " 'summary tasks public class operator identifier itask implemented gauss',\n",
              " 'virtualizing sensitive environment technologies hardware malicious subvirt applications instruction user',\n",
              " 'summary int aneka logs value instances data contained cid framework',\n",
              " 'level virtualization provides clouds computing tion technologies layer open dynamic',\n",
              " 'virtualized hardware resources allowing guest software provides hosting machine managers',\n",
              " 'virtual computing clouds technology allows tion environ machine software pro',\n",
              " 'virtual computing storage services server opportunities vendors internet infrastructure machine',\n",
              " 'files mapreduce tasks data access cid computation greater huge distribute',\n",
              " 'summary anekathread matrixproduct scalar result matrix private pair application',\n",
              " 'service cloudfront amazon server content downloaded aws provides virtual networking',\n",
              " 'data bigtable google server tablets processes access specific applications manages',\n",
              " 'conf applications operations aneka systems supported new return multithreaded configure',\n",
              " 'applications storage cluster stored provide aws amazon objects mapreduce',\n",
              " 'clouds computing users use security governments concerns hybrid model',\n",
              " 'aneka models manage containing infrastructure cloud different deployments administrative pri',\n",
              " 'federation secure management cloud computing user provides legal access',\n",
              " 'summary public mapemitdelegate imapinput type map result param',\n",
              " 'virtual applications differ techniques machine execution portability environment major',\n",
              " 'clouds virtualization standard providing vendors www format considerable open compute',\n",
              " 'functions decomposition tion operates unit figure problem program thread properly',\n",
              " 'computing clouds technologies hardware service definition infrastructure different chapters',\n",
              " 'mapreduce provisioning programming data step algorith priority independents entries review',\n",
              " 'cloud hybrid address public heterogeneous figure provisioning external additional existing',\n",
              " 'clouds level software architectural hardware specification virtual appliances interoperable packages',\n",
              " 'data cloud different act legislation service security provided privacy appropriate',\n",
              " 'mapreduce models programs distribute applications dryad computations integrated data research',\n",
              " 'storage peers keys models dynamo acid store applications provided amazon',\n",
              " 'data large compute cid dataset infrastructure research intensive massively internet',\n",
              " 'summary file public string configures mapreduceapplication applications services implementing mapreduce',\n",
              " 'cloud ecg computing costs systems monitor devices services web hosted',\n",
              " 'managed virtual cid featured reduced windows operations hardware servers partition',\n",
              " 'computations instances cid powerful applications clusters cpu user high memory',\n",
              " 'services manage computational resources cid user cloud supporting hardware sla',\n",
              " 'cloud energy service resources efficient broker provider infrastructure',\n",
              " 'web application development appengine use python available environment cloud',\n",
              " 'service cid soa applications distributed business develop software systems provide',\n",
              " 'service aneka cid nodes master programming configured management overview containers',\n",
              " 'application cloud computation programming model scientists scientific huge large software',\n",
              " 'compute virtual services systems cloud application provide tions technologies aws',\n",
              " 'virtualized instruction hardware translating vmware generating environments memory binary management',\n",
              " 'component managed infrastructures iaas allow virtual cid resource clouds complete',\n",
              " 'market resources priced models amazon bid instances comput interesting auctioneer',\n",
              " 'technologies multiple cloud computing investments cloudbusrting figure outsourcing trust privacy',\n",
              " 'services components cloudexchange manages cid specific vee resource clouds offer',\n",
              " 'cluster computing large powerful resources processing data high technology grid',\n",
              " 'modes systems instruction executed hypervisors virtualize sensitive operations privilege managed',\n",
              " 'rmi java remote object allows skeleton clients interfaces class hosting',\n",
              " 'application users xml data developers base cloud web technologies documents',\n",
              " 'file service application managed storage aneka data cid transferred power',\n",
              " 'instance disk memory aki bit extra provides remote large',\n",
              " 'nodes amazon rendering video worker animoto sqs causing temporary',\n",
              " 'document task word pairs mapreduce source cid vectors operates',\n",
              " 'local threads anekathread differences states process class distributed mapping method',\n",
              " 'cid services modeled job scheduler common executed aneka sufficient provides',\n",
              " 'virtualized discuss environments reference different cloud infrastructure connection review questions',\n",
              " 'task computing cid nodes environment access output application appropriate middleware',\n",
              " 'clouds layer services computing different vendor software interoperability like solution',\n",
              " 'distributed cassandra data level node replication tablet structured bigtable aware',\n",
              " 'threads aneka operation properties applications classes supported limitations anekathread provided',\n",
              " 'cid standard cloud management platforms supports vendors format organizations federation',\n",
              " 'resources working cloud applications virtualization computing management local desktop provision',\n",
              " 'instruction virtual machine mode control manager dominant performance efficiently isa',\n",
              " 'services method state models messages cid aneka stopped container defines']"
            ]
          },
          "metadata": {
            "tags": []
          },
          "execution_count": 14
        }
      ]
    },
    {
      "cell_type": "code",
      "metadata": {
        "id": "rVIuFzMCU53i"
      },
      "source": [
        "import pandas as pd"
      ],
      "execution_count": null,
      "outputs": []
    },
    {
      "cell_type": "code",
      "metadata": {
        "colab": {
          "base_uri": "https://localhost:8080/"
        },
        "id": "53chBBeXUnz-",
        "outputId": "839367dd-6de1-4d1a-e459-68bab3fdcdb5"
      },
      "source": [
        "dataset = {'data': data,\n",
        "        'target': target\n",
        "        }\n",
        "\n",
        "df = pd.DataFrame(dataset, columns = ['data', 'target'])\n",
        "\n",
        "print (df)"
      ],
      "execution_count": null,
      "outputs": [
        {
          "output_type": "stream",
          "text": [
            "                                                  data           target\n",
            "0    clouds computing solutions saas iaas expenses ...  Cloud Computing\n",
            "1    service emails aws applications amazon web mes...  Cloud Computing\n",
            "2    cid service sla cloud levels networks provider...  Cloud Computing\n",
            "3    application java environ appengine support pyt...  Cloud Computing\n",
            "4    clouds services model computing market managem...  Cloud Computing\n",
            "..                                                 ...              ...\n",
            "396  threads aneka operation properties application...  Cloud Computing\n",
            "397  cid standard cloud management platforms suppor...  Cloud Computing\n",
            "398  resources working cloud applications virtualiz...  Cloud Computing\n",
            "399  instruction virtual machine mode control manag...  Cloud Computing\n",
            "400  services method state models messages cid anek...  Cloud Computing\n",
            "\n",
            "[401 rows x 2 columns]\n"
          ],
          "name": "stdout"
        }
      ]
    },
    {
      "cell_type": "code",
      "metadata": {
        "id": "HcFKmTxSU4Ly"
      },
      "source": [
        "df.to_csv('cloud.csv')"
      ],
      "execution_count": null,
      "outputs": []
    },
    {
      "cell_type": "code",
      "metadata": {
        "id": "n2kkiapEVRoK"
      },
      "source": [
        "ml = pd.read_csv('/content/ml.csv')"
      ],
      "execution_count": null,
      "outputs": []
    },
    {
      "cell_type": "code",
      "metadata": {
        "id": "EFUJ5jnQZ8Rr"
      },
      "source": [
        "ml"
      ],
      "execution_count": null,
      "outputs": []
    },
    {
      "cell_type": "code",
      "metadata": {
        "id": "K35lcw78Z84P"
      },
      "source": [
        ""
      ],
      "execution_count": null,
      "outputs": []
    }
  ]
}